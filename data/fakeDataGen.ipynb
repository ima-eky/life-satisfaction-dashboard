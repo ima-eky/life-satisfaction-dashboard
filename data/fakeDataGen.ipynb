{
 "cells": [
  {
   "cell_type": "code",
   "execution_count": null,
   "metadata": {},
   "outputs": [
    {
     "name": "stdout",
     "output_type": "stream",
     "text": [
      "Fake ESS data saved as 'fake_ess_data.csv'\n"
     ]
    }
   ],
   "source": [
    "import pandas as pd\n",
    "import numpy as np\n",
    "\n",
    "\n",
    "num_rows = 500\n",
    "countries = [\"Sweden\", \"Norway\", \"Finland\", \"Germany\", \"France\", \"Italy\", \"Spain\", \"UK\", \"Netherlands\", \"Poland\"]\n",
    "\n",
    "# Generate synthetic overview data\n",
    "data = {\n",
    "    \"country\": np.random.choice(countries, num_rows),\n",
    "    \"age\": np.random.randint(18, 80, num_rows),\n",
    "    \"gender\": np.random.choice([\"Male\", \"Female\", \"Other\"], num_rows),\n",
    "    \"education\": np.random.choice([\"Primary\", \"Secondary\", \"Tertiary\"], num_rows),\n",
    "    \"income\": np.random.randint(10000, 100000, num_rows),\n",
    "    \"social_trust\": np.random.uniform(0, 10, num_rows),\n",
    "    \"health\": np.random.uniform(0, 10, num_rows),\n",
    "    \"job_Security\": np.random.uniform(0, 10, num_rows),\n",
    "    \"work_life_balance\": np.random.uniform(0, 10, num_rows),\n",
    "    \"political_engagement\": np.random.uniform(0, 10, num_rows),\n",
    "    \"life_satisfaction\": np.random.uniform(0, 10, num_rows),\n",
    "    \"happiness\": np.random.uniform(0, 10, num_rows),\n",
    "    \"year\": \"2023\"\n",
    "}\n",
    "\n",
    "\n",
    "fake_ess_data = pd.DataFrame(data)\n",
    "fake_ess_data.to_csv(\"fake_ess_data.csv\", index=False)\n",
    "\n",
    "print(\"Fake ESS data saved as 'fake_ess_data.csv'\")\n"
   ]
  },
  {
   "cell_type": "code",
   "execution_count": null,
   "metadata": {},
   "outputs": [
    {
     "data": {
      "text/html": [
       "<div>\n",
       "<style scoped>\n",
       "    .dataframe tbody tr th:only-of-type {\n",
       "        vertical-align: middle;\n",
       "    }\n",
       "\n",
       "    .dataframe tbody tr th {\n",
       "        vertical-align: top;\n",
       "    }\n",
       "\n",
       "    .dataframe thead th {\n",
       "        text-align: right;\n",
       "    }\n",
       "</style>\n",
       "<table border=\"1\" class=\"dataframe\">\n",
       "  <thead>\n",
       "    <tr style=\"text-align: right;\">\n",
       "      <th></th>\n",
       "      <th>country</th>\n",
       "      <th>causality_from</th>\n",
       "      <th>causality_to</th>\n",
       "      <th>p_value</th>\n",
       "    </tr>\n",
       "  </thead>\n",
       "  <tbody>\n",
       "    <tr>\n",
       "      <th>0</th>\n",
       "      <td>UK</td>\n",
       "      <td>age</td>\n",
       "      <td>gender</td>\n",
       "      <td>0.374540</td>\n",
       "    </tr>\n",
       "    <tr>\n",
       "      <th>1</th>\n",
       "      <td>UK</td>\n",
       "      <td>age</td>\n",
       "      <td>income</td>\n",
       "      <td>0.950714</td>\n",
       "    </tr>\n",
       "    <tr>\n",
       "      <th>2</th>\n",
       "      <td>UK</td>\n",
       "      <td>age</td>\n",
       "      <td>education</td>\n",
       "      <td>0.731994</td>\n",
       "    </tr>\n",
       "    <tr>\n",
       "      <th>3</th>\n",
       "      <td>UK</td>\n",
       "      <td>age</td>\n",
       "      <td>employment</td>\n",
       "      <td>0.598658</td>\n",
       "    </tr>\n",
       "    <tr>\n",
       "      <th>4</th>\n",
       "      <td>UK</td>\n",
       "      <td>age</td>\n",
       "      <td>satisfaction</td>\n",
       "      <td>0.156019</td>\n",
       "    </tr>\n",
       "  </tbody>\n",
       "</table>\n",
       "</div>"
      ],
      "text/plain": [
       "  country causality_from  causality_to   p_value\n",
       "0      UK            age        gender  0.374540\n",
       "1      UK            age        income  0.950714\n",
       "2      UK            age     education  0.731994\n",
       "3      UK            age    employment  0.598658\n",
       "4      UK            age  satisfaction  0.156019"
      ]
     },
     "execution_count": 8,
     "metadata": {},
     "output_type": "execute_result"
    },
    {
     "ename": "",
     "evalue": "",
     "output_type": "error",
     "traceback": [
      "\u001b[1;31mThe Kernel crashed while executing code in the current cell or a previous cell. \n",
      "\u001b[1;31mPlease review the code in the cell(s) to identify a possible cause of the failure. \n",
      "\u001b[1;31mClick <a href='https://aka.ms/vscodeJupyterKernelCrash'>here</a> for more info. \n",
      "\u001b[1;31mView Jupyter <a href='command:jupyter.viewOutput'>log</a> for further details."
     ]
    }
   ],
   "source": [
    "import pandas as pd\n",
    "import numpy as np\n",
    "\n",
    "# Generate sample test data for Granger causality (for 1 country and multiple variables)\n",
    "np.random.seed(42)\n",
    "\n",
    "countries = ['UK'] \n",
    "variables = [\n",
    "    'age', 'gender', 'income', 'education', 'employment', 'satisfaction', 'trust', \n",
    "    'political_interest', 'health', 'wellbeing', 'social_support', 'life_expectancy'\n",
    "]\n",
    "\n",
    "causality_from = []\n",
    "causality_to = []\n",
    "p_values = []\n",
    "\n",
    "# Create some random causality relationships and p-values for illustration\n",
    "for var_from in variables:\n",
    "    for var_to in variables:\n",
    "        if var_from != var_to:  # Avoid self-causality\n",
    "            causality_from.append(var_from)\n",
    "            causality_to.append(var_to)\n",
    "            p_values.append(np.random.uniform(0, 1))\n",
    "\n",
    "# Create DataFrame\n",
    "test_data = pd.DataFrame({\n",
    "    'country': np.repeat(countries, len(causality_from)),\n",
    "    'causality_from': causality_from,\n",
    "    'causality_to': causality_to,\n",
    "    'p_value': p_values\n",
    "})\n",
    "\n",
    "\n",
    "test_data.to_csv(\"test_causality_data.csv\", index=False)\n",
    "test_data.head()\n"
   ]
  }
 ],
 "metadata": {
  "kernelspec": {
   "display_name": "Python (pytorch-env)",
   "language": "python",
   "name": "pytorch-env"
  },
  "language_info": {
   "codemirror_mode": {
    "name": "ipython",
    "version": 3
   },
   "file_extension": ".py",
   "mimetype": "text/x-python",
   "name": "python",
   "nbconvert_exporter": "python",
   "pygments_lexer": "ipython3",
   "version": "3.9.20"
  }
 },
 "nbformat": 4,
 "nbformat_minor": 2
}
